{
 "cells": [
  {
   "cell_type": "markdown",
   "id": "0131382b-e534-4a14-8a62-611e1f980979",
   "metadata": {},
   "source": [
    "# Amazon Case Study"
   ]
  },
  {
   "cell_type": "markdown",
   "id": "01d4f752-c257-4863-8d1d-8256802bba6b",
   "metadata": {},
   "source": [
    "### Q. How many items are sold on Amazon.in in a day?"
   ]
  },
  {
   "cell_type": "code",
   "execution_count": 3,
   "id": "26f6b83a-d303-4174-9bf2-b72226a922a0",
   "metadata": {},
   "outputs": [],
   "source": [
    "# --- Your Assumptions ---\n",
    "\n",
    "# Step 1: Estimated total number of households in India\n",
    "households_total = 300_000_000\n",
    "\n",
    "# Step 2: Percentage of households with internet access\n",
    "internet_penetration_rate = 0.50 \n",
    "\n",
    "# Step 3: Percentage of internet households that order from Amazon.in\n",
    "amazon_adoption_rate = 0.20 \n",
    "\n",
    "# Step 4: Estimated average frequency of orders per household per month\n",
    "orders_per_month_per_hh = 2\n",
    "\n",
    "# Step 5: Estimated average number of items per order\n",
    "items_per_order = 3"
   ]
  },
  {
   "cell_type": "code",
   "execution_count": 5,
   "id": "ba9ac8a5-3dc7-45d2-b75f-2e8d1e4f238f",
   "metadata": {},
   "outputs": [
    {
     "name": "stdout",
     "output_type": "stream",
     "text": [
      "Total Households: 300,000,000\n",
      "Households Ordering from Amazon: 30,000,000\n",
      "------------------------------\n",
      "Total Items Sold per Month: 180,000,000\n",
      "Estimated Items Sold per Day: 6,000,000\n"
     ]
    }
   ],
   "source": [
    "# --- Calculations ---\n",
    "\n",
    "# Step 2 & 3: Calculate the number of households ordering from Amazon\n",
    "households_ordering = (\n",
    "    households_total * internet_penetration_rate * amazon_adoption_rate\n",
    ")\n",
    "\n",
    "# Step 6: Calculate total items sold per month\n",
    "items_per_month = (\n",
    "    households_ordering * orders_per_month_per_hh * items_per_order\n",
    ")\n",
    "\n",
    "# Step 6: Calculate the estimated number of items sold per day (using 30 days/month)\n",
    "days_in_month = 30\n",
    "items_per_day = items_per_month / days_in_month\n",
    "\n",
    "# --- Output ---\n",
    "print(f\"Total Households: {households_total:,}\")\n",
    "print(f\"Households Ordering from Amazon: {int(households_ordering):,}\")\n",
    "print(\"-\" * 30) # This prints the separator line\n",
    "print(f\"Total Items Sold per Month: {int(items_per_month):,}\")\n",
    "print(f\"Estimated Items Sold per Day: {int(items_per_day):,}\")"
   ]
  },
  {
   "cell_type": "code",
   "execution_count": 9,
   "id": "5f34adbf-f6e0-476c-92ad-c1a7742d83eb",
   "metadata": {},
   "outputs": [
    {
     "name": "stdout",
     "output_type": "stream",
     "text": [
      "Base Case Estimate (Your Assumptions): 6,000,000 items per day\n",
      "--------------------------------------------------\n",
      "Optimistic Estimate (Orders/Month = 3): 9,000,000 items per day\n"
     ]
    }
   ],
   "source": [
    "def estimate_amazon_daily_sales(\n",
    "    total_hh: int, \n",
    "    internet_pct: float, \n",
    "    amazon_pct: float, \n",
    "    orders_per_hh: float, \n",
    "    items_per_order: float\n",
    ") -> float:\n",
    "    \"\"\"\n",
    "    Estimates the average number of items sold on Amazon.in per day.\n",
    "    \n",
    "    Args:\n",
    "        total_hh: Total number of households.\n",
    "        internet_pct: % of households with internet access (e.g., 0.50).\n",
    "        amazon_pct: % of internet households ordering from Amazon (e.g., 0.20).\n",
    "        orders_per_hh: Average orders placed per household per month.\n",
    "        items_per_order: Average number of items per order.\n",
    "        \n",
    "    Returns:\n",
    "        Estimated number of items sold per day.\n",
    "    \"\"\"\n",
    "    \n",
    "    # Calculate the number of households ordering from Amazon\n",
    "    households_ordering = total_hh * internet_pct * amazon_pct\n",
    "    \n",
    "    # Calculate total items sold per month\n",
    "    items_per_month = households_ordering * orders_per_hh * items_per_order\n",
    "    \n",
    "    # Calculate items sold per day (using 30 days/month)\n",
    "    items_per_day = items_per_month / 30\n",
    "    \n",
    "    return items_per_day\n",
    "\n",
    "# --- Scenario 1: Your Base Case Assumptions ---\n",
    "base_estimate = estimate_amazon_daily_sales(\n",
    "    total_hh=300_000_000,\n",
    "    internet_pct=0.50,\n",
    "    amazon_pct=0.20,\n",
    "    orders_per_hh=2,\n",
    "    items_per_order=3\n",
    ")\n",
    "\n",
    "print(f\"Base Case Estimate (Your Assumptions): {int(base_estimate):,} items per day\")\n",
    "print(\"-\" * 50)\n",
    "\n",
    "\n",
    "# --- Scenario 2: More Optimistic (Higher Frequency) ---\n",
    "# Assume active shoppers order 3 times per month instead of 2.\n",
    "optimistic_estimate = estimate_amazon_daily_sales(\n",
    "    total_hh=300_000_000,\n",
    "    internet_pct=0.50,\n",
    "    amazon_pct=0.20,\n",
    "    orders_per_hh=3,  # Adjusted assumption\n",
    "    items_per_order=3\n",
    ")\n",
    "\n",
    "print(f\"Optimistic Estimate (Orders/Month = 3): {int(optimistic_estimate):,} items per day\")"
   ]
  },
  {
   "cell_type": "code",
   "execution_count": null,
   "id": "f8614f1c-7d1d-4e23-bec8-f93c58a30171",
   "metadata": {},
   "outputs": [],
   "source": []
  }
 ],
 "metadata": {
  "kernelspec": {
   "display_name": "Python 3 (ipykernel)",
   "language": "python",
   "name": "python3"
  },
  "language_info": {
   "codemirror_mode": {
    "name": "ipython",
    "version": 3
   },
   "file_extension": ".py",
   "mimetype": "text/x-python",
   "name": "python",
   "nbconvert_exporter": "python",
   "pygments_lexer": "ipython3",
   "version": "3.13.5"
  }
 },
 "nbformat": 4,
 "nbformat_minor": 5
}
